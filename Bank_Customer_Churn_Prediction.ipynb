{
  "metadata": {
    "kernelspec": {
      "language": "python",
      "display_name": "Python 3",
      "name": "python3"
    },
    "language_info": {
      "name": "python",
      "version": "3.10.13",
      "mimetype": "text/x-python",
      "codemirror_mode": {
        "name": "ipython",
        "version": 3
      },
      "pygments_lexer": "ipython3",
      "nbconvert_exporter": "python",
      "file_extension": ".py"
    },
    "kaggle": {
      "accelerator": "none",
      "dataSources": [
        {
          "sourceId": 3322096,
          "sourceType": "datasetVersion",
          "datasetId": 2008274
        }
      ],
      "dockerImageVersionId": 30646,
      "isInternetEnabled": true,
      "language": "python",
      "sourceType": "notebook",
      "isGpuEnabled": false
    },
    "colab": {
      "name": "Bank Customer Churn Prediction",
      "provenance": []
    }
  },
  "nbformat_minor": 0,
  "nbformat": 4,
  "cells": [
    {
      "source": [
        "\n",
        "# IMPORTANT: RUN THIS CELL IN ORDER TO IMPORT YOUR KAGGLE DATA SOURCES\n",
        "# TO THE CORRECT LOCATION (/kaggle/input) IN YOUR NOTEBOOK,\n",
        "# THEN FEEL FREE TO DELETE THIS CELL.\n",
        "# NOTE: THIS NOTEBOOK ENVIRONMENT DIFFERS FROM KAGGLE'S PYTHON\n",
        "# ENVIRONMENT SO THERE MAY BE MISSING LIBRARIES USED BY YOUR\n",
        "# NOTEBOOK.\n",
        "\n",
        "import os\n",
        "import sys\n",
        "from tempfile import NamedTemporaryFile\n",
        "from urllib.request import urlopen\n",
        "from urllib.parse import unquote, urlparse\n",
        "from urllib.error import HTTPError\n",
        "from zipfile import ZipFile\n",
        "import tarfile\n",
        "import shutil\n",
        "\n",
        "CHUNK_SIZE = 40960\n",
        "DATA_SOURCE_MAPPING = 'bank-customer-churn-prediction:https%3A%2F%2Fstorage.googleapis.com%2Fkaggle-data-sets%2F2008274%2F3322096%2Fbundle%2Farchive.zip%3FX-Goog-Algorithm%3DGOOG4-RSA-SHA256%26X-Goog-Credential%3Dgcp-kaggle-com%2540kaggle-161607.iam.gserviceaccount.com%252F20240218%252Fauto%252Fstorage%252Fgoog4_request%26X-Goog-Date%3D20240218T075748Z%26X-Goog-Expires%3D259200%26X-Goog-SignedHeaders%3Dhost%26X-Goog-Signature%3D89f480e3e3510529896b9f21288babe0ab4c410f5f9e18e4da5a84f610b16567e59f57fc54ad55832e31b6503ffd9e222f637a8bf57b8f00e5f53f82e84836cfca5d2f48278b23eaf65ac963d68b38856318df7739b254f5838e1d05e80e1ec3ec7f95750df31482ccba685bad49078c06e1c84c0ec42d1d2a16e5c803ffc7cef8b96b626780698289e255df261dbaa562f2bc5ba1dfc470623edb1c3bdef6f25fa281a7a01968daebc47c9dd789f138ec3bb433958882d08f40d75ee9fba3e7519cb994a51666de26e3c5f31eac9770a64fc117d09d0c5aee7c2d7b2d0a7026d1af7fda7eb9dc07206783dad1f134d21fecbc8c95eabcac0b72a05bbf9b8d7a'\n",
        "\n",
        "KAGGLE_INPUT_PATH='/kaggle/input'\n",
        "KAGGLE_WORKING_PATH='/kaggle/working'\n",
        "KAGGLE_SYMLINK='kaggle'\n",
        "\n",
        "!umount /kaggle/input/ 2> /dev/null\n",
        "shutil.rmtree('/kaggle/input', ignore_errors=True)\n",
        "os.makedirs(KAGGLE_INPUT_PATH, 0o777, exist_ok=True)\n",
        "os.makedirs(KAGGLE_WORKING_PATH, 0o777, exist_ok=True)\n",
        "\n",
        "try:\n",
        "  os.symlink(KAGGLE_INPUT_PATH, os.path.join(\"..\", 'input'), target_is_directory=True)\n",
        "except FileExistsError:\n",
        "  pass\n",
        "try:\n",
        "  os.symlink(KAGGLE_WORKING_PATH, os.path.join(\"..\", 'working'), target_is_directory=True)\n",
        "except FileExistsError:\n",
        "  pass\n",
        "\n",
        "for data_source_mapping in DATA_SOURCE_MAPPING.split(','):\n",
        "    directory, download_url_encoded = data_source_mapping.split(':')\n",
        "    download_url = unquote(download_url_encoded)\n",
        "    filename = urlparse(download_url).path\n",
        "    destination_path = os.path.join(KAGGLE_INPUT_PATH, directory)\n",
        "    try:\n",
        "        with urlopen(download_url) as fileres, NamedTemporaryFile() as tfile:\n",
        "            total_length = fileres.headers['content-length']\n",
        "            print(f'Downloading {directory}, {total_length} bytes compressed')\n",
        "            dl = 0\n",
        "            data = fileres.read(CHUNK_SIZE)\n",
        "            while len(data) > 0:\n",
        "                dl += len(data)\n",
        "                tfile.write(data)\n",
        "                done = int(50 * dl / int(total_length))\n",
        "                sys.stdout.write(f\"\\r[{'=' * done}{' ' * (50-done)}] {dl} bytes downloaded\")\n",
        "                sys.stdout.flush()\n",
        "                data = fileres.read(CHUNK_SIZE)\n",
        "            if filename.endswith('.zip'):\n",
        "              with ZipFile(tfile) as zfile:\n",
        "                zfile.extractall(destination_path)\n",
        "            else:\n",
        "              with tarfile.open(tfile.name) as tarfile:\n",
        "                tarfile.extractall(destination_path)\n",
        "            print(f'\\nDownloaded and uncompressed: {directory}')\n",
        "    except HTTPError as e:\n",
        "        print(f'Failed to load (likely expired) {download_url} to path {destination_path}')\n",
        "        continue\n",
        "    except OSError as e:\n",
        "        print(f'Failed to load {download_url} to path {destination_path}')\n",
        "        continue\n",
        "\n",
        "print('Data source import complete.')\n"
      ],
      "metadata": {
        "id": "oXFU2utvOHZl"
      },
      "cell_type": "code",
      "outputs": [],
      "execution_count": null
    },
    {
      "cell_type": "code",
      "source": [
        "import pandas as pd\n",
        "import numpy as np\n",
        "import matplotlib.pyplot as plt\n",
        "from sklearn.model_selection import train_test_split\n",
        "from sklearn.preprocessing import LabelEncoder\n",
        "from sklearn.ensemble import RandomForestClassifier\n",
        "from sklearn.metrics import accuracy_score"
      ],
      "metadata": {
        "_uuid": "8f2839f25d086af736a60e9eeb907d3b93b6e0e5",
        "_cell_guid": "b1076dfc-b9ad-4769-8c92-a6c4dae69d19",
        "execution": {
          "iopub.status.busy": "2024-02-02T14:26:58.245721Z",
          "iopub.execute_input": "2024-02-02T14:26:58.246161Z",
          "iopub.status.idle": "2024-02-02T14:26:59.825173Z",
          "shell.execute_reply.started": "2024-02-02T14:26:58.246121Z",
          "shell.execute_reply": "2024-02-02T14:26:59.823698Z"
        },
        "trusted": true,
        "id": "sYL-jwF_OHZo"
      },
      "execution_count": null,
      "outputs": []
    },
    {
      "cell_type": "code",
      "source": [
        "df=pd.read_csv('/kaggle/input/bank-customer-churn-prediction/Churn_Modelling.csv')\n",
        "df"
      ],
      "metadata": {
        "execution": {
          "iopub.status.busy": "2024-02-02T14:26:59.827214Z",
          "iopub.execute_input": "2024-02-02T14:26:59.827718Z",
          "iopub.status.idle": "2024-02-02T14:26:59.92291Z",
          "shell.execute_reply.started": "2024-02-02T14:26:59.827684Z",
          "shell.execute_reply": "2024-02-02T14:26:59.921528Z"
        },
        "trusted": true,
        "id": "0Mh5xljsOHZp"
      },
      "execution_count": null,
      "outputs": []
    },
    {
      "cell_type": "code",
      "source": [
        "# Data is Clear\n",
        "df.info()"
      ],
      "metadata": {
        "execution": {
          "iopub.status.busy": "2024-02-02T14:26:59.92416Z",
          "iopub.execute_input": "2024-02-02T14:26:59.924477Z",
          "iopub.status.idle": "2024-02-02T14:26:59.956644Z",
          "shell.execute_reply.started": "2024-02-02T14:26:59.92445Z",
          "shell.execute_reply": "2024-02-02T14:26:59.955548Z"
        },
        "trusted": true,
        "id": "CguNjpQUOHZp"
      },
      "execution_count": null,
      "outputs": []
    },
    {
      "cell_type": "code",
      "source": [
        "df[\"Geography\"].unique() # Three countries"
      ],
      "metadata": {
        "execution": {
          "iopub.status.busy": "2024-02-02T14:26:59.959199Z",
          "iopub.execute_input": "2024-02-02T14:26:59.959544Z",
          "iopub.status.idle": "2024-02-02T14:26:59.968399Z",
          "shell.execute_reply.started": "2024-02-02T14:26:59.959515Z",
          "shell.execute_reply": "2024-02-02T14:26:59.967229Z"
        },
        "trusted": true,
        "id": "pmPSOtxZOHZq"
      },
      "execution_count": null,
      "outputs": []
    },
    {
      "cell_type": "code",
      "source": [
        "df.describe()"
      ],
      "metadata": {
        "execution": {
          "iopub.status.busy": "2024-02-02T14:26:59.970112Z",
          "iopub.execute_input": "2024-02-02T14:26:59.970873Z",
          "iopub.status.idle": "2024-02-02T14:27:00.032249Z",
          "shell.execute_reply.started": "2024-02-02T14:26:59.970842Z",
          "shell.execute_reply": "2024-02-02T14:27:00.030872Z"
        },
        "trusted": true,
        "id": "jplvX62bOHZq"
      },
      "execution_count": null,
      "outputs": []
    },
    {
      "cell_type": "code",
      "source": [
        "#delete unneeded columns\n",
        "df.drop(columns=['RowNumber','CustomerId','Surname'],inplace=True)\n",
        "df"
      ],
      "metadata": {
        "execution": {
          "iopub.status.busy": "2024-02-02T14:27:00.033796Z",
          "iopub.execute_input": "2024-02-02T14:27:00.034181Z",
          "iopub.status.idle": "2024-02-02T14:27:00.061292Z",
          "shell.execute_reply.started": "2024-02-02T14:27:00.034147Z",
          "shell.execute_reply": "2024-02-02T14:27:00.060135Z"
        },
        "trusted": true,
        "id": "vRX-OAgJOHZq"
      },
      "execution_count": null,
      "outputs": []
    },
    {
      "cell_type": "code",
      "source": [
        "labelencoder=LabelEncoder()\n",
        "df['Gender']=labelencoder.fit_transform(df['Gender'])\n",
        "df['Geography']=labelencoder.fit_transform(df['Geography'])\n",
        "df"
      ],
      "metadata": {
        "execution": {
          "iopub.status.busy": "2024-02-02T14:27:00.062885Z",
          "iopub.execute_input": "2024-02-02T14:27:00.063275Z",
          "iopub.status.idle": "2024-02-02T14:27:00.095914Z",
          "shell.execute_reply.started": "2024-02-02T14:27:00.063243Z",
          "shell.execute_reply": "2024-02-02T14:27:00.094501Z"
        },
        "trusted": true,
        "id": "43GprGZhOHZr"
      },
      "execution_count": null,
      "outputs": []
    },
    {
      "cell_type": "code",
      "source": [
        "# Data Is Ready Now\n",
        "df.dtypes"
      ],
      "metadata": {
        "execution": {
          "iopub.status.busy": "2024-02-02T14:27:00.09995Z",
          "iopub.execute_input": "2024-02-02T14:27:00.100303Z",
          "iopub.status.idle": "2024-02-02T14:27:00.108892Z",
          "shell.execute_reply.started": "2024-02-02T14:27:00.100276Z",
          "shell.execute_reply": "2024-02-02T14:27:00.107587Z"
        },
        "trusted": true,
        "id": "4wIB-eXlOHZr"
      },
      "execution_count": null,
      "outputs": []
    },
    {
      "cell_type": "code",
      "source": [
        "x=df.drop(columns='Exited') # droping coulmn from the feature\n",
        "y=df['Exited']"
      ],
      "metadata": {
        "execution": {
          "iopub.status.busy": "2024-02-02T14:27:00.110495Z",
          "iopub.execute_input": "2024-02-02T14:27:00.110842Z",
          "iopub.status.idle": "2024-02-02T14:27:00.119808Z",
          "shell.execute_reply.started": "2024-02-02T14:27:00.110813Z",
          "shell.execute_reply": "2024-02-02T14:27:00.118589Z"
        },
        "trusted": true,
        "id": "LP-GkARgOHZr"
      },
      "execution_count": null,
      "outputs": []
    },
    {
      "cell_type": "code",
      "source": [
        "x_train,x_test,y_train,y_test=train_test_split(x,y,test_size=0.3,shuffle=True,random_state=40)"
      ],
      "metadata": {
        "execution": {
          "iopub.status.busy": "2024-02-02T14:27:00.123411Z",
          "iopub.execute_input": "2024-02-02T14:27:00.123847Z",
          "iopub.status.idle": "2024-02-02T14:27:00.132847Z",
          "shell.execute_reply.started": "2024-02-02T14:27:00.1238Z",
          "shell.execute_reply": "2024-02-02T14:27:00.131875Z"
        },
        "trusted": true,
        "id": "6psi2USTOHZs"
      },
      "execution_count": null,
      "outputs": []
    },
    {
      "cell_type": "code",
      "source": [
        "model=RandomForestClassifier()\n",
        "model.fit(x_train,y_train)"
      ],
      "metadata": {
        "execution": {
          "iopub.status.busy": "2024-02-02T14:27:00.134183Z",
          "iopub.execute_input": "2024-02-02T14:27:00.134486Z",
          "iopub.status.idle": "2024-02-02T14:27:01.425395Z",
          "shell.execute_reply.started": "2024-02-02T14:27:00.13446Z",
          "shell.execute_reply": "2024-02-02T14:27:01.424199Z"
        },
        "trusted": true,
        "id": "TSBfTemnOHZs"
      },
      "execution_count": null,
      "outputs": []
    },
    {
      "cell_type": "code",
      "source": [
        "model.score(x_train,y_train)"
      ],
      "metadata": {
        "execution": {
          "iopub.status.busy": "2024-02-02T14:27:01.427422Z",
          "iopub.execute_input": "2024-02-02T14:27:01.427749Z",
          "iopub.status.idle": "2024-02-02T14:27:01.564987Z",
          "shell.execute_reply.started": "2024-02-02T14:27:01.427722Z",
          "shell.execute_reply": "2024-02-02T14:27:01.563762Z"
        },
        "trusted": true,
        "id": "_GxK4hoGOHZs"
      },
      "execution_count": null,
      "outputs": []
    },
    {
      "cell_type": "code",
      "source": [
        "y_pred = model.predict(x_test)\n",
        "y_pred"
      ],
      "metadata": {
        "execution": {
          "iopub.status.busy": "2024-02-02T14:27:02.849828Z",
          "iopub.execute_input": "2024-02-02T14:27:02.850255Z",
          "iopub.status.idle": "2024-02-02T14:27:02.925324Z",
          "shell.execute_reply.started": "2024-02-02T14:27:02.850222Z",
          "shell.execute_reply": "2024-02-02T14:27:02.923723Z"
        },
        "trusted": true,
        "id": "n78kNco9OHZs"
      },
      "execution_count": null,
      "outputs": []
    },
    {
      "cell_type": "code",
      "source": [
        "len(y_pred)"
      ],
      "metadata": {
        "execution": {
          "iopub.status.busy": "2024-02-02T14:27:03.454141Z",
          "iopub.execute_input": "2024-02-02T14:27:03.454642Z",
          "iopub.status.idle": "2024-02-02T14:27:03.462265Z",
          "shell.execute_reply.started": "2024-02-02T14:27:03.454603Z",
          "shell.execute_reply": "2024-02-02T14:27:03.461014Z"
        },
        "trusted": true,
        "id": "Xgz4FE0xOHZt"
      },
      "execution_count": null,
      "outputs": []
    },
    {
      "cell_type": "code",
      "source": [
        "accuracy = accuracy_score(y_test, y_pred)\n",
        "print(\"Accuracy: {:.2f}%\".format(accuracy * 100))"
      ],
      "metadata": {
        "execution": {
          "iopub.status.busy": "2024-02-02T14:27:05.076294Z",
          "iopub.execute_input": "2024-02-02T14:27:05.076741Z",
          "iopub.status.idle": "2024-02-02T14:27:05.085634Z",
          "shell.execute_reply.started": "2024-02-02T14:27:05.076705Z",
          "shell.execute_reply": "2024-02-02T14:27:05.084272Z"
        },
        "trusted": true,
        "id": "E2qkbR2iOHZt"
      },
      "execution_count": null,
      "outputs": []
    }
  ]
}